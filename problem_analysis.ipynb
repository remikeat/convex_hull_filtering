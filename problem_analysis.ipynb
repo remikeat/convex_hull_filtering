{
 "cells": [
  {
   "cell_type": "markdown",
   "metadata": {
    "tags": []
   },
   "source": [
    "# MaaS_General_Challenge"
   ]
  },
  {
   "cell_type": "markdown",
   "metadata": {
    "tags": []
   },
   "source": [
    "## Problem analysis"
   ]
  },
  {
   "cell_type": "markdown",
   "metadata": {
    "tags": []
   },
   "source": [
    "### Problem statement"
   ]
  },
  {
   "cell_type": "markdown",
   "metadata": {
    "tags": []
   },
   "source": [
    "Eliminate overlapped convex hulls\n",
    "\n",
    "* Load convex_hulls.json.\n",
    "* Some of the convex hulls stored in convex_hulls.json are overlapped.\n",
    "* Eliminate the overlapped convex hulls based on the following rule.\n",
    "    * Eliminate the convex hull if it has more than 50% of its own area overlapped with another convex hull (pairwise area overlap).\n",
    "* Generate result_convex_hulls.json which stores only the remaining (non-eliminated) convex hulls. The format should be the same as convex_hulls.json.\n",
    "* Authorized program language is only C++.\n",
    "    * Follow a coding style guide which you are using.\n",
    "        * E.g. Google C++ Style Guide\n",
    "    * Mention the style guide as a comment on the top of your program code.\n",
    "        * // This code follows Google C++ Style Guide.\n",
    "* You are allowed to use JSON library to read/write a json file.\n",
    "    * E.g. https://nlohmann.github.io/json/.\n",
    "* You are allowed to use the std library in C++.\n",
    "* Do not use any other libraries, especially to calculate area or intersection.\n",
    "* Put appropriate comments for the reviewer to understand your code easily.\n",
    "* Submit the following files:\n",
    "    * your code and the code for the json library you used\n",
    "    * your result_convex_hulls.json\n",
    "    * Instruction to build and run your code so that we can reproduce your result using your submission"
   ]
  },
  {
   "cell_type": "markdown",
   "metadata": {},
   "source": [
    "### Reformulation of the problem statement for clarity"
   ]
  },
  {
   "cell_type": "markdown",
   "metadata": {},
   "source": [
    "#### Task"
   ]
  },
  {
   "cell_type": "markdown",
   "metadata": {
    "tags": []
   },
   "source": [
    "Eliminate overlapped convex hulls\n",
    "\n",
    "* Load convex_hulls.json.\n",
    "* Some of the convex hulls stored in convex_hulls.json are overlapped.\n",
    "* Eliminate the overlapped convex hulls based on the following rule.\n",
    "    * Eliminate the convex hull if it has more than 50% of its own area overlapped with another convex hull (pairwise area overlap).\n",
    "* Generate result_convex_hulls.json which stores only the remaining (non-eliminated) convex hulls."
   ]
  },
  {
   "cell_type": "markdown",
   "metadata": {},
   "source": [
    "#### Constraints"
   ]
  },
  {
   "cell_type": "markdown",
   "metadata": {
    "tags": []
   },
   "source": [
    "* The format should be the same as convex_hulls.json.\n",
    "* Authorized program language is only C++.\n",
    "    * Follow a coding style guide which you are using.\n",
    "        * E.g. Google C++ Style Guide\n",
    "    * Mention the style guide as a comment on the top of your program code.\n",
    "        * // This code follows Google C++ Style Guide.\n",
    "* You are allowed to use JSON library to read/write a json file.\n",
    "    * E.g. https://nlohmann.github.io/json/.\n",
    "* You are allowed to use the std library in C++.\n",
    "* Do not use any other libraries, especially to calculate area or intersection.\n",
    "* Put appropriate comments for the reviewer to understand your code easily."
   ]
  },
  {
   "cell_type": "markdown",
   "metadata": {
    "tags": []
   },
   "source": [
    "#### Submission"
   ]
  },
  {
   "cell_type": "markdown",
   "metadata": {},
   "source": [
    "* Submit the following files:\n",
    "    * your code and the code for the json library you used\n",
    "    * your result_convex_hulls.json\n",
    "    * Instruction to build and run your code so that we can reproduce your result using your submission"
   ]
  },
  {
   "cell_type": "markdown",
   "metadata": {
    "tags": []
   },
   "source": [
    "### Initial analysis (Visualization of the problem)"
   ]
  },
  {
   "cell_type": "code",
   "execution_count": null,
   "metadata": {},
   "outputs": [],
   "source": [
    "import json\n",
    "import matplotlib.pyplot as plt\n",
    "import matplotlib.colors as mcolors\n",
    "import numpy as np\n",
    "import math\n",
    "from collections import namedtuple\n",
    "from inspect import signature\n",
    "\n",
    "# Increase the size of Jupyter plots\n",
    "plt.rcParams['figure.figsize'] = [20, 10]\n",
    "\n",
    "json_filepath = \"./convex_hulls.json\"\n",
    "\n",
    "def setAxis():\n",
    "    plt.xlim([-50, 20])\n",
    "    plt.ylim([-30, 40])\n",
    "\n",
    "def get_color(idx):\n",
    "    color_palette = [color for color in mcolors.TABLEAU_COLORS]\n",
    "    return color_palette[idx % len(color_palette)]\n",
    "\n",
    "def plot_convex_hull(convex_hull, *args, **kwargs):\n",
    "    plt.plot(np.append(convex_hull[:,0], [[convex_hull[0, 0]]], axis=0), np.append(convex_hull[:,1], [[convex_hull[0,1]]], axis=0), *args, **kwargs)\n",
    "\n",
    "with open(json_filepath) as f:\n",
    "    data = json.load(f)\n",
    "\n",
    "convex_hulls = []\n",
    "for convex_hull in data[\"convex hulls\"]:\n",
    "    points = []\n",
    "    for apex in convex_hull[\"apexes\"]:\n",
    "        points.append([apex['x'], apex['y']])\n",
    "    points = np.matrix(points)\n",
    "    convex_hulls.append(points)\n",
    "    plot_convex_hull(points, color=get_color(convex_hull[\"ID\"]))\n",
    "    plt.text(points[0, 0], points[0, 1], convex_hull[\"ID\"])\n",
    "\n",
    "plt.axis(\"square\")\n",
    "setAxis()\n",
    "plt.grid()"
   ]
  },
  {
   "cell_type": "markdown",
   "metadata": {
    "tags": []
   },
   "source": [
    "## Part 1 : Intersection of convex hulls"
   ]
  },
  {
   "cell_type": "markdown",
   "metadata": {},
   "source": [
    "### Research of algorithms"
   ]
  },
  {
   "cell_type": "markdown",
   "metadata": {
    "tags": []
   },
   "source": [
    "After a quick research on intersection of convex polygon, I fould the following:  \n",
    "https://tildesites.bowdoin.edu/~ltoma/teaching/cs3250-CompGeom/spring17/Lectures/cg-convexintersection.pdf\n",
    "\n",
    "This document seems to refer to the algorithm described in the following paper:  \n",
    "https://www.cs.jhu.edu/~misha/Spring16/ORourke82.pdf\n",
    "\n",
    "The algorithm is described as simple to implement and run in linear time.  \n",
    "So I decided to proceed with this algorithm."
   ]
  },
  {
   "cell_type": "markdown",
   "metadata": {
    "tags": []
   },
   "source": [
    "### Algorithm (extract from ORourke82)"
   ]
  },
  {
   "cell_type": "markdown",
   "metadata": {
    "tags": []
   },
   "source": [
    "The algorithm is describe in pseudo-code as follows:\n",
    "\n",
    "input: $P$ and $Q$  \n",
    "output: $P \\cap Q$  \n",
    "\n",
    "**begin** {main}  \n",
    "Choose $\\mathbf{p}$ and $\\mathbf{q}$ arbitrarily.  \n",
    "**repeat**  \n",
    "> {Check to see if $\\mathbf{\\dot{p}}$ and $\\mathbf{\\dot{q}}$ intersect}  \n",
    "> **if** $\\mathbf{\\dot{p}}$ and $\\mathbf{\\dot{q}}$ intersect **then**  \n",
    "\n",
    ">> **if** this intersection is the same as the first intersection **then** halt  \n",
    ">> **else** output the point of intersection and  \n",
    "\n",
    ">>> {set inside} **if** $\\mathbf{p} \\in hp(\\mathbf{\\dot{q}})$ **then** $inside \\leftarrow “P”$ else $inside \\leftarrow “Q“$;  \n",
    "\n",
    ">>{Advance either $\\mathbf{p}$ or $\\mathbf{q}$.}  \n",
    ">> **if** $\\mathbf{\\dot{q}} \\times \\mathbf{\\dot{p}} \\geq O$ **then**  \n",
    "\n",
    ">>> **if** $\\mathbf{p} \\in hp(\\mathbf{\\dot{q}})$ **then** (advance $\\mathbf{q}$) **else** (advance $\\mathbf{p}$)  \n",
    "\n",
    ">> **else** {$\\mathbf{\\dot{q}} \\times \\mathbf{\\dot{p}} \\lt 0$}  \n",
    "\n",
    ">>> **if** $\\mathbf{q} \\in hp(\\mathbf{\\dot{p}})$ **then** (advance $\\mathbf{p}$) **else** (advance $\\mathbf{q}$);  \n",
    "\n",
    "**until** repeat has executed more than $2(\\lvert P \\rvert + \\lvert Q \\rvert)$ times;  \n",
    "{either $P \\cap Q = \\emptyset$ or $P \\supseteq Q$ or $P \\subseteq Q$}  \n",
    "Choose $\\mathbf{p}$ and $\\mathbf{q}$ arbitrarily.  \n",
    "**if** $\\mathbf{p} \\in Q$ **then** output $P$ **else** **if** $\\mathbf{q} \\in P$ **then** output $Q$ **else** output $\\emptyset$ ;  \n",
    "**end** {main}  \n",
    "\n",
    "\n",
    "advance $\\mathbf{p}$:  \n",
    "> output $\\mathbf{p}$ **if** $inside = “P“$;  \n",
    "> $p \\leftarrow P_+$;  \n",
    "\n",
    "advance $\\mathbf{q}$:  \n",
    "> output $\\mathbf{q}$ **if** $inside =“Q”$;  \n",
    "> $q \\leftarrow q_+$;  \n",
    "\n",
    "$hp(\\mathbf{\\dot{p}}) = \\{\\mathbf{x} : \\mathbf{\\dot{p}} \\times (\\mathbf{x} - \\mathbf{p_-}) \\geq 0\\}$"
   ]
  },
  {
   "cell_type": "markdown",
   "metadata": {},
   "source": [
    "After implementing the algorithm in C++, I wrote python bindings to the C++ code.  \n",
    "Python bindings doesn't affect the original code.  \n",
    "They are just wrapper code that call the actual C++ code.  \n",
    "The reason I wrote python bindings is so that I could visualize my results using this jupyter notebook."
   ]
  },
  {
   "cell_type": "markdown",
   "metadata": {
    "tags": []
   },
   "source": [
    "### Visualization of results (Convex Hull intersection and area calculation)"
   ]
  },
  {
   "cell_type": "code",
   "execution_count": null,
   "metadata": {},
   "outputs": [],
   "source": [
    "from convex_hull_filtering import *\n",
    "def plot_pair(convex_hulls, idx1, idx2):\n",
    "    [inter, interConvexHull, area] = intersection(convex_hulls[idx1], convex_hulls[idx2])\n",
    "    plot_convex_hull(convex_hulls[idx1], color=get_color(idx1))\n",
    "    plot_convex_hull(convex_hulls[idx2], color=get_color(idx2))\n",
    "    if inter:\n",
    "        interConvexHull = np.matrix(interConvexHull)\n",
    "        plot_convex_hull(interConvexHull, linewidth=5, color=\"red\")\n",
    "    area1 = getArea(convex_hulls[idx1])\n",
    "    area2 = getArea(convex_hulls[idx2])\n",
    "    plt.title(f\"{idx1} ({area1:.2f}) & {idx2} ({area2:.2f}) / Inter area = {area:.2f}\")\n",
    "    plt.axis(\"square\")\n",
    "    plt.grid()\n",
    "\n",
    "plt.subplot(3,2,1)\n",
    "plot_pair(convex_hulls, 1, 2)\n",
    "\n",
    "plt.subplot(3,2,2)\n",
    "plot_pair(convex_hulls, 3, 4)\n",
    "\n",
    "plt.subplot(3,2,3)\n",
    "plot_pair(convex_hulls, 5, 6)\n",
    "\n",
    "plt.subplot(3,2,4)\n",
    "plot_pair(convex_hulls, 7, 8)\n",
    "\n",
    "plt.subplot(3,3,7)\n",
    "plot_convex_hull(convex_hulls[11], color=get_color(11))\n",
    "plot_pair(convex_hulls, 9, 10)\n",
    "\n",
    "plt.subplot(3,3,8)\n",
    "plot_convex_hull(convex_hulls[10], color=get_color(10))\n",
    "plot_pair(convex_hulls, 9, 11)\n",
    "\n",
    "plt.subplot(3,3,9)\n",
    "plot_convex_hull(convex_hulls[9], color=get_color(9))\n",
    "plot_pair(convex_hulls, 10, 11)"
   ]
  },
  {
   "cell_type": "markdown",
   "metadata": {
    "tags": []
   },
   "source": [
    "### Checking degenerate cases"
   ]
  },
  {
   "cell_type": "markdown",
   "metadata": {},
   "source": [
    "Checking the following cases:\n",
    "* the two convex hull share one edge\n",
    "* the two convex hull intersect on a single point\n",
    "* the two convex hull partially overalap on one edge\n",
    "* the two convex hull share one edge (different starting point)"
   ]
  },
  {
   "cell_type": "code",
   "execution_count": null,
   "metadata": {},
   "outputs": [],
   "source": [
    "pointsA = np.matrix([[0.0, 0.0], [1.0, 0.0], [1.0, 1.0]])\n",
    "pointsB = np.matrix([[1.0, 0.0], [1.0, 1.0], [0.0, 1.0]])\n",
    "pointsC = np.matrix([[1.0, 0.5], [2.0, 0.5], [2.0, 1.5]])\n",
    "pointsD = np.matrix([[0.5, 0.0], [1.5, 0.0], [1.5, 1.0]])\n",
    "pointsE = np.matrix([[0.0, 1.0], [1.0, 0.0], [1.0, 1.0]])\n",
    "plt.subplot(2, 2, 1)\n",
    "plot_pair([pointsA, pointsB], 0, 1)\n",
    "print(intersection(pointsA, pointsB))\n",
    "plt.subplot(2, 2, 2)\n",
    "plot_pair([pointsA, pointsC], 0, 1)\n",
    "print(intersection(pointsA, pointsC))\n",
    "plt.subplot(2, 2, 3)\n",
    "plot_pair([pointsA, pointsD], 0, 1)\n",
    "print(intersection(pointsA, pointsD))\n",
    "plt.subplot(2, 2, 4)\n",
    "plot_pair([pointsA, pointsE], 0, 1)\n",
    "print(intersection(pointsA, pointsE))"
   ]
  },
  {
   "cell_type": "markdown",
   "metadata": {},
   "source": [
    "Checking with different direction to travel ie clockwise or counter-clockwise"
   ]
  },
  {
   "cell_type": "code",
   "execution_count": null,
   "metadata": {},
   "outputs": [],
   "source": [
    "pointsA = []\n",
    "for theta in np.linspace(1, 1 + 2 * math.pi, 10):\n",
    "    l = 5\n",
    "    pointsA.append([l * math.cos(theta), l * math.sin(theta)])\n",
    "pointsA = np.matrix(pointsA)\n",
    "\n",
    "pointsB = []\n",
    "for theta in np.linspace(0, -2 * math.pi, 10):\n",
    "    l = 5\n",
    "    pointsB.append([l * math.cos(theta), l * math.sin(theta)])\n",
    "pointsB = np.matrix(pointsB)\n",
    "\n",
    "plot_pair([pointsA, pointsB], 0, 1)\n",
    "\n",
    "[inter, interConvexHull, area] = intersection(pointsA, pointsB)"
   ]
  },
  {
   "cell_type": "markdown",
   "metadata": {},
   "source": [
    "## Part 2 : Collision detection"
   ]
  },
  {
   "cell_type": "markdown",
   "metadata": {},
   "source": [
    "### Research of algorithms"
   ]
  },
  {
   "cell_type": "markdown",
   "metadata": {},
   "source": [
    "After some research, I found that there is a multitude of algorithms available.  \n",
    "For the task requested, I decided to try to use R-tree algorithms  \n",
    "Again, there is many variants of R-tree but after considering the short time (1 week) for this assigment,  \n",
    "I decided to implement the original R-tree algorithm following the original paper:  \n",
    "http://www-db.deis.unibo.it/courses/SI-LS/papers/Gut84.pdf\n",
    "\n",
    "Also I decided to limit myself to only the search and insertion cases (ie not deletion) due to the short time limitation"
   ]
  },
  {
   "cell_type": "markdown",
   "metadata": {
    "tags": []
   },
   "source": [
    "### Algorithm (extract from Gut84)"
   ]
  },
  {
   "cell_type": "markdown",
   "metadata": {},
   "source": [
    "Algorithm **Search**  \n",
    "Given an R-tree whose root node is $T$, find all index records whose rectangles overlap a search rectangle $S$  \n",
    "\n",
    "Sl [Search subtrees]  \n",
    "If $T$ is not a leaf, check each entry $E$ to deterrmine whether $E I$ overlaps $S$  \n",
    "For all overlapping entries, invoke **Search** on the tree whose root node is pointed to by $Ep$  \n",
    "\n",
    "S2 [Search leaf node]  \n",
    "If $T$ is a leaf, check all entries $E$ to determine whether $EI$ overlaps $S$ \n",
    "If so, $E$ is a qualifying record\n",
    "\n",
    "\n",
    "\n",
    "Algorithm **Insert**  \n",
    "Insert a new index entry $E$ into an R-tree  \n",
    "\n",
    "I1 [Find position for new record]  \n",
    "Invoke **ChooseLeaf** to select a leaf node $L$ in which to place $E$\n",
    "\n",
    "I2 [Add record to leaf node]  \n",
    "If $L$ has room for another entry, install $E$  \n",
    "Otherwise invoke **SplitNode** to obtain $L$ and $LL$ containing $E$ and all the old entries of $L$  \n",
    "\n",
    "I3 [Propagate changes upward]  \n",
    "Inovke **AdjustTree** on $L$, also passing $LL$ if a split was performed  \n",
    "\n",
    "I4 [Grow tree taller]  \n",
    "If node split propagation caused the root to split, create a new root whose children are the two resulting nodes"
   ]
  },
  {
   "cell_type": "markdown",
   "metadata": {},
   "source": [
    "### Visualization of results"
   ]
  },
  {
   "cell_type": "code",
   "execution_count": null,
   "metadata": {},
   "outputs": [],
   "source": [
    "entries = []\n",
    "\n",
    "def plot_bb(bb, *args, **kwargs):\n",
    "    plt.plot([bb[0], bb[2], bb[2], bb[0], bb[0]], [bb[1], bb[1], bb[3], bb[3], bb[1]], *args, **kwargs)\n",
    "\n",
    "def traverseTree(node, level):\n",
    "    bb = node[\"bb\"]\n",
    "    linewidth = 25 - (10 * level)\n",
    "    color = get_color(level)\n",
    "    if len(node[\"children\"]) == 0:\n",
    "        linewidth = 1\n",
    "        color = get_color(node[\"value\"])\n",
    "    plot_bb(bb, linewidth=linewidth, color=color)\n",
    "    for child in node[\"children\"]:\n",
    "        traverseTree(child, level + 1)\n",
    "\n",
    "def plotEachLevel(node, level, plot_level):\n",
    "    bb = node[\"bb\"]\n",
    "    linewidth = 1\n",
    "    color = get_color(level)\n",
    "    if len(node[\"children\"]) == 0:\n",
    "        color = get_color(node[\"value\"])\n",
    "    if level == plot_level:\n",
    "        plot_bb(bb, linewidth=linewidth, color=color)\n",
    "    for child in node[\"children\"]:\n",
    "        plotEachLevel(child, level + 1, plot_level)\n",
    "\n",
    "plt.figure()\n",
    "for i, convex_hull in enumerate(convex_hulls):\n",
    "    plot_convex_hull(convex_hull, color=get_color(i))\n",
    "    bb = boundingBox(convex_hull)\n",
    "    entries.append([i] + bb)\n",
    "entries = np.matrix(entries)\n",
    "tree = insertEntry(1, 3, entries)\n",
    "traverseTree(tree, 0)\n",
    "plt.axis(\"square\")\n",
    "plt.grid(True)\n",
    "setAxis()\n",
    "\n",
    "plt.figure()\n",
    "for i in range(4):\n",
    "    plt.subplot(1,4, i + 1)\n",
    "    plotEachLevel(tree, 0, i)\n",
    "    plt.axis(\"square\")\n",
    "    plt.grid(True)\n",
    "    setAxis()"
   ]
  },
  {
   "attachments": {},
   "cell_type": "markdown",
   "metadata": {},
   "source": [
    "## Part 3 : Putting everything together"
   ]
  },
  {
   "cell_type": "code",
   "execution_count": null,
   "metadata": {},
   "outputs": [],
   "source": [
    "res = searchOverlaps(1, 3, entries, entries[:,1:5])\n",
    "res"
   ]
  }
 ],
 "metadata": {
  "kernelspec": {
   "display_name": "Python 3 (ipykernel)",
   "language": "python",
   "name": "python3"
  },
  "language_info": {
   "codemirror_mode": {
    "name": "ipython",
    "version": 3
   },
   "file_extension": ".py",
   "mimetype": "text/x-python",
   "name": "python",
   "nbconvert_exporter": "python",
   "pygments_lexer": "ipython3",
   "version": "3.10.6"
  },
  "vscode": {
   "interpreter": {
    "hash": "e7370f93d1d0cde622a1f8e1c04877d8463912d04d973331ad4851f04de6915a"
   }
  }
 },
 "nbformat": 4,
 "nbformat_minor": 4
}
