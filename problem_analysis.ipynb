{
 "cells": [
  {
   "cell_type": "markdown",
   "metadata": {
    "tags": []
   },
   "source": [
    "# Problem"
   ]
  },
  {
   "cell_type": "markdown",
   "metadata": {
    "tags": []
   },
   "source": [
    "## Problem statement"
   ]
  },
  {
   "cell_type": "markdown",
   "metadata": {
    "tags": []
   },
   "source": [
    "> Eliminate overlapped convex hulls\n",
    "> \n",
    "> * Load convex_hulls.json.\n",
    "> * Some of the convex hulls stored in convex_hulls.json are overlapped.\n",
    "> * Eliminate the overlapped convex hulls based on the following rule.\n",
    ">     * Eliminate the convex hull if it has more than 50% of its own area overlapped with another convex hull (pairwise area overlap).\n",
    "> * Generate result_convex_hulls.json which stores only the remaining (non-eliminated) convex hulls. The format should be the same as  convex_hulls.json.\n",
    "> * Authorized program language is only C++.\n",
    ">     * Follow a coding style guide which you are using.\n",
    ">         * E.g. Google C++ Style Guide\n",
    ">     * Mention the style guide as a comment on the top of your program code.\n",
    ">         * // This code follows Google C++ Style Guide.\n",
    "> * You are allowed to use JSON library to read/write a json file.\n",
    ">     * E.g. https://nlohmann.github.io/json/.\n",
    "> * You are allowed to use the std library in C++.\n",
    "> * Do not use any other libraries, especially to calculate area or intersection.\n",
    "> * Put appropriate comments for the reviewer to understand your code easily.\n",
    "> * Submit the following files:\n",
    ">     * your code and the code for the json library you used\n",
    ">     * your result_convex_hulls.json\n",
    ">     * Instruction to build and run your code so that we can reproduce your result using your submission"
   ]
  },
  {
   "cell_type": "markdown",
   "metadata": {},
   "source": [
    "## Reformulation of the problem statement for clarity"
   ]
  },
  {
   "cell_type": "markdown",
   "metadata": {},
   "source": [
    "### Task"
   ]
  },
  {
   "cell_type": "markdown",
   "metadata": {
    "tags": []
   },
   "source": [
    "Eliminate overlapped convex hulls\n",
    "\n",
    "* Load convex_hulls.json.\n",
    "* Some of the convex hulls stored in convex_hulls.json are overlapped.\n",
    "* Eliminate the overlapped convex hulls based on the following rule.\n",
    "    * Eliminate the convex hull if it has more than 50% of its own area overlapped with another convex hull (pairwise area overlap).\n",
    "* Generate result_convex_hulls.json which stores only the remaining (non-eliminated) convex hulls."
   ]
  },
  {
   "cell_type": "markdown",
   "metadata": {},
   "source": [
    "### Constraints"
   ]
  },
  {
   "cell_type": "markdown",
   "metadata": {
    "tags": []
   },
   "source": [
    "* The format should be the same as convex_hulls.json.\n",
    "* Authorized program language is only C++.\n",
    "    * Follow a coding style guide which you are using.\n",
    "        * E.g. Google C++ Style Guide\n",
    "    * Mention the style guide as a comment on the top of your program code.\n",
    "        * // This code follows Google C++ Style Guide.\n",
    "* You are allowed to use JSON library to read/write a json file.\n",
    "    * E.g. https://nlohmann.github.io/json/.\n",
    "* You are allowed to use the std library in C++.\n",
    "* Do not use any other libraries, especially to calculate area or intersection.\n",
    "* Put appropriate comments for the reviewer to understand your code easily."
   ]
  },
  {
   "cell_type": "markdown",
   "metadata": {
    "tags": []
   },
   "source": [
    "### Submission"
   ]
  },
  {
   "cell_type": "markdown",
   "metadata": {},
   "source": [
    "* Submit the following files:\n",
    "    * your code and the code for the json library you used\n",
    "    * your result_convex_hulls.json\n",
    "    * Instruction to build and run your code so that we can reproduce your result using your submission"
   ]
  },
  {
   "cell_type": "markdown",
   "metadata": {
    "tags": []
   },
   "source": [
    "# Important point"
   ]
  },
  {
   "cell_type": "markdown",
   "metadata": {},
   "source": [
    "All the code in this jupyter notebook is purely for visualization and debugging   \n",
    "The algorithm itself have been completly implemented in C++  \n",
    "The python bindings only\n",
    "\n",
    "* convert the python data\n",
    "* feed the data to the C++ code that perform the algorithm\n",
    "* convert the data to python\n",
    "\n",
    "If this is a problem, please feel free to delete the following folder/files\n",
    "\n",
    "* *python/convex_hull_filtering.cpp* (Wrapper code written in c++)\n",
    "* *setup.py* (Configuration to build the wrapper code)\n",
    "* *test.py* (Test file to test the bindings)\n",
    "* *problem_analysis.ipynb* (this jupyter notebook)\n",
    "\n",
    "The C++ code should still compile without any issue\n",
    "\n",
    "Also I used *googletest* library to perform unit test on the code  \n",
    "again, if this is an issue please feel free to delete the following folder/files\n",
    "\n",
    "* *test/BoundingBox_test.cpp*\n",
    "* *test/ConvexHull_test.cpp*\n",
    "* *test/Edge_test.cpp*\n",
    "* *test/main.cpp*\n",
    "\n",
    "and replace the *CMakeLists.txt* file with the following content:\n",
    "\n",
    "```cmake\n",
    "cmake_minimum_required(VERSION 3.15)\n",
    "set(CMAKE_CXX_STANDARD 17)\n",
    "\n",
    "include(FetchContent)\n",
    "\n",
    "FetchContent_Declare(\n",
    "  json\n",
    "  URL https://github.com/nlohmann/json/releases/download/v3.11.2/json.tar.xz)\n",
    "FetchContent_MakeAvailable(json)\n",
    "\n",
    "project(ConvexHullFiltering)\n",
    "\n",
    "file(GLOB_RECURSE sources src/convex_hull_filtering/*.cpp)\n",
    "add_executable(convex_hull_filtering src/main.cpp ${sources})\n",
    "target_include_directories(convex_hull_filtering PUBLIC include)\n",
    "target_link_libraries(convex_hull_filtering PRIVATE nlohmann_json::nlohmann_json)\n",
    "```"
   ]
  },
  {
   "cell_type": "markdown",
   "metadata": {
    "tags": []
   },
   "source": [
    "# Instruction to build and run the code"
   ]
  },
  {
   "cell_type": "markdown",
   "metadata": {},
   "source": [
    "## Preparation of the build environment"
   ]
  },
  {
   "cell_type": "markdown",
   "metadata": {},
   "source": [
    "Open a terminal and execute the following commands:\n",
    "\n",
    "```\n",
    "sudo apt install build-essential cmake\n",
    "```"
   ]
  },
  {
   "cell_type": "markdown",
   "metadata": {},
   "source": [
    "## How to build the code"
   ]
  },
  {
   "cell_type": "markdown",
   "metadata": {},
   "source": [
    "In the following, I will refer to the *root folder of this project* as the folder that contains the *README.md* file"
   ]
  },
  {
   "cell_type": "markdown",
   "metadata": {},
   "source": [
    "### Building of the C++ code"
   ]
  },
  {
   "cell_type": "markdown",
   "metadata": {},
   "source": [
    "In the *root folder of this project*, open a terminal  \n",
    "And execute the following commands\n",
    "\n",
    "```\n",
    "mkdir build\n",
    "cd build\n",
    "cmake ..\n",
    "make\n",
    "```"
   ]
  },
  {
   "cell_type": "markdown",
   "metadata": {},
   "source": [
    "### Building of the Python bindings (Optional)"
   ]
  },
  {
   "cell_type": "markdown",
   "metadata": {},
   "source": [
    "In the *root folder of this project*, open a terminal  \n",
    "And execute the following commands\n",
    "\n",
    "```\n",
    "python setup.py build_ext --inplace\n",
    "```"
   ]
  },
  {
   "cell_type": "markdown",
   "metadata": {},
   "source": [
    "## How to run the code"
   ]
  },
  {
   "cell_type": "markdown",
   "metadata": {},
   "source": [
    "After the code has been successfully build"
   ]
  },
  {
   "cell_type": "markdown",
   "metadata": {},
   "source": [
    "### Main executable"
   ]
  },
  {
   "cell_type": "markdown",
   "metadata": {},
   "source": [
    "To run the main executable, open a terminal in the *root folder of this project*   \n",
    "and execute the following commands:\n",
    "\n",
    "```\n",
    "./build/convex_hull_filtering\n",
    "```"
   ]
  },
  {
   "cell_type": "markdown",
   "metadata": {},
   "source": [
    "### Test executable (Unit test using googletest) / Optional"
   ]
  },
  {
   "cell_type": "markdown",
   "metadata": {},
   "source": [
    "To run the test executable, open a terminal in the *root folder of this project*  \n",
    "and execute the following command:\n",
    "\n",
    "```\n",
    "./build/convex_hull_filtering_test\n",
    "```\n",
    "\n",
    "**OR** the following commands:\n",
    "```\n",
    "cd build\n",
    "ctest\n",
    "```"
   ]
  },
  {
   "cell_type": "markdown",
   "metadata": {},
   "source": [
    "### Other analysis scripts (Optional)"
   ]
  },
  {
   "cell_type": "markdown",
   "metadata": {},
   "source": [
    "Install jupyter lab using the following command:\n",
    "\n",
    "```\n",
    "pip install jupyterlab\n",
    "```\n",
    "\n",
    "Start jupyter lab using the following command:\n",
    "```\n",
    "jupyter lab\n",
    "```\n",
    "\n",
    "Navigate to the *root folder of this project* and open the file *problem_analysis.ipynb*  \n",
    "You can also open this file directly from Microsoft Visual Studio Code"
   ]
  },
  {
   "cell_type": "markdown",
   "metadata": {},
   "source": [
    "# Regarding coding style guide"
   ]
  },
  {
   "cell_type": "markdown",
   "metadata": {},
   "source": [
    "I have setup my vscode with the following settings:\n",
    "\n",
    "```\n",
    "\"C_Cpp.clang_format_style\": \"Google\"\n",
    "```\n",
    "\n",
    "And run cpplint with the following commands:\n",
    "```\n",
    "cpplint --recursive .\n",
    "```"
   ]
  },
  {
   "cell_type": "markdown",
   "metadata": {},
   "source": [
    "# Part 1 : Problem analysis"
   ]
  },
  {
   "cell_type": "markdown",
   "metadata": {
    "tags": []
   },
   "source": [
    "## Initial analysis (Visualization of the problem)"
   ]
  },
  {
   "cell_type": "code",
   "execution_count": null,
   "metadata": {},
   "outputs": [],
   "source": [
    "import json\n",
    "import matplotlib.pyplot as plt\n",
    "import matplotlib.colors as mcolors\n",
    "import numpy as np\n",
    "import math\n",
    "from collections import namedtuple\n",
    "from inspect import signature\n",
    "\n",
    "# Increase the size of Jupyter plots\n",
    "plt.rcParams['figure.figsize'] = [20, 10]\n",
    "\n",
    "json_filepath = \"./convex_hulls.json\"\n",
    "\n",
    "def set_axis():\n",
    "    plt.xlim([-50, 20])\n",
    "    plt.ylim([-30, 40])\n",
    "\n",
    "def get_color(idx):\n",
    "    color_palette = [color for color in mcolors.TABLEAU_COLORS]\n",
    "    return color_palette[idx % len(color_palette)]\n",
    "\n",
    "def plot_convex_hull(convex_hull, *args, **kwargs):\n",
    "    points = convex_hull[\"points\"]\n",
    "    if 'color' not in kwargs:\n",
    "        kwargs[\"color\"] = get_color(convex_hull[\"ID\"])\n",
    "    plt.plot(np.append(points[:,0], [[points[0, 0]]], axis=0), \\\n",
    "        np.append(points[:,1], [[points[0,1]]], axis=0), *args, **kwargs)\n",
    "    plt.text(points[0, 0], points[0, 1], convex_hull[\"ID\"])\n",
    "\n",
    "def load_json(filepath):\n",
    "    with open(filepath) as f:\n",
    "        data = json.load(f)\n",
    "\n",
    "    convex_hulls = []\n",
    "    for convex_hull in data[\"convex hulls\"]:\n",
    "        points = []\n",
    "        for apex in convex_hull[\"apexes\"]:\n",
    "            points.append([apex['x'], apex['y']])\n",
    "        convex_hulls.append({\"ID\": convex_hull[\"ID\"], \"points\" : np.matrix(points)})\n",
    "    return convex_hulls\n",
    "\n",
    "convex_hulls = load_json(json_filepath)\n",
    "\n",
    "for convex_hull in convex_hulls:\n",
    "    plot_convex_hull(convex_hull)\n",
    "\n",
    "plt.axis(\"square\")\n",
    "set_axis()\n",
    "plt.grid()"
   ]
  },
  {
   "cell_type": "markdown",
   "metadata": {
    "tags": []
   },
   "source": [
    "# Part 2 : Intersection of convex hulls"
   ]
  },
  {
   "cell_type": "markdown",
   "metadata": {},
   "source": [
    "## Research of algorithms"
   ]
  },
  {
   "cell_type": "markdown",
   "metadata": {
    "tags": []
   },
   "source": [
    "After a quick research on intersection of convex polygon, I fould the following:  \n",
    "https://tildesites.bowdoin.edu/~ltoma/teaching/cs3250-CompGeom/spring17/Lectures/cg-convexintersection.pdf\n",
    "\n",
    "This document seems to refer to the algorithm described in the following paper:  \n",
    "https://www.cs.jhu.edu/~misha/Spring16/ORourke82.pdf\n",
    "\n",
    "The algorithm is described as simple to implement and run in linear time.  \n",
    "So I decided to proceed with this algorithm."
   ]
  },
  {
   "cell_type": "markdown",
   "metadata": {
    "tags": []
   },
   "source": [
    "## Algorithm (extract from ORourke82)"
   ]
  },
  {
   "cell_type": "markdown",
   "metadata": {
    "tags": []
   },
   "source": [
    "The algorithm is describe in pseudo-code as follows:\n",
    "\n",
    "> input: $P$ and $Q$  \n",
    "> output: $P \\cap Q$  \n",
    "\n",
    "> **begin** {main}  \n",
    "> Choose $\\mathbf{p}$ and $\\mathbf{q}$ arbitrarily.  \n",
    "> **repeat**  \n",
    "\n",
    ">> {Check to see if $\\mathbf{\\dot{p}}$ and $\\mathbf{\\dot{q}}$ intersect}  \n",
    ">> **if** $\\mathbf{\\dot{p}}$ and $\\mathbf{\\dot{q}}$ intersect **then**  \n",
    "\n",
    ">>> **if** this intersection is the same as the first intersection **then** halt  \n",
    ">>> **else** output the point of intersection and  \n",
    "\n",
    ">>>> {set inside} **if** $\\mathbf{p} \\in hp(\\mathbf{\\dot{q}})$ **then** $inside \\leftarrow “P”$ else $inside \\leftarrow “Q“$;  \n",
    "\n",
    ">>>{Advance either $\\mathbf{p}$ or $\\mathbf{q}$.}  \n",
    ">>> **if** $\\mathbf{\\dot{q}} \\times \\mathbf{\\dot{p}} \\geq O$ **then**  \n",
    "\n",
    ">>>> **if** $\\mathbf{p} \\in hp(\\mathbf{\\dot{q}})$ **then** (advance $\\mathbf{q}$) **else** (advance $\\mathbf{p}$)  \n",
    "\n",
    ">>> **else** {$\\mathbf{\\dot{q}} \\times \\mathbf{\\dot{p}} \\lt 0$}  \n",
    "\n",
    ">>>> **if** $\\mathbf{q} \\in hp(\\mathbf{\\dot{p}})$ **then** (advance $\\mathbf{p}$) **else** (advance $\\mathbf{q}$);  \n",
    "\n",
    "> **until** repeat has executed more than $2(\\lvert P \\rvert + \\lvert Q \\rvert)$ times;  \n",
    "> {either $P \\cap Q = \\emptyset$ or $P \\supseteq Q$ or $P \\subseteq Q$}  \n",
    "> Choose $\\mathbf{p}$ and $\\mathbf{q}$ arbitrarily.  \n",
    "> **if** $\\mathbf{p} \\in Q$ **then** output $P$ **else** **if** $\\mathbf{q} \\in P$ **then** output $Q$ **else** output $\\emptyset$ ;  \n",
    "> **end** {main}  \n",
    "\n",
    "\n",
    "> advance $\\mathbf{p}$:  \n",
    "\n",
    ">> output $\\mathbf{p}$ **if** $inside = “P“$;  \n",
    ">> $p \\leftarrow P_+$;  \n",
    "\n",
    "> advance $\\mathbf{q}$:  \n",
    "\n",
    ">> output $\\mathbf{q}$ **if** $inside =“Q”$;  \n",
    ">> $q \\leftarrow q_+$;  \n",
    "\n",
    "> $hp(\\mathbf{\\dot{p}}) = \\{\\mathbf{x} : \\mathbf{\\dot{p}} \\times (\\mathbf{x} - \\mathbf{p_-}) \\geq 0\\}$"
   ]
  },
  {
   "cell_type": "markdown",
   "metadata": {},
   "source": [
    "After implementing the algorithm in C++, I wrote python bindings to the C++ code.  \n",
    "Python bindings doesn't affect the original code.  \n",
    "They are just wrapper code that call the actual C++ code.  \n",
    "The reason I wrote python bindings is so that I could visualize my results using this jupyter notebook."
   ]
  },
  {
   "cell_type": "markdown",
   "metadata": {},
   "source": [
    "## Explanations"
   ]
  },
  {
   "cell_type": "markdown",
   "metadata": {},
   "source": [
    "An important point for this algorithm to work properly is that the convex hull should be left on the left side when iterating over the edges  \n",
    "I ensured this by checking on which side the convex hull reside and then setting a direction value as follow:  \n",
    "\n",
    "* -1 : Iterate backward\n",
    "* +1 : Iterate forward\n",
    "\n",
    "Extract of paper  \n",
    "\n",
    "> ... so that the inside of the polygon is always to the left ...\n",
    "\n",
    "Extract of code\n",
    "\n",
    "```C++\n",
    "  // The direction of scanning the edges should leave the convex hull on it left\n",
    "  int Pdirection =\n",
    "      Edge(points[0], points[1]).belongToHalfPlane(points[2]) ? 1 : -1;\n",
    "  int Qdirection =\n",
    "      Edge(Q.points[0], Q.points[1]).belongToHalfPlane(Q.points[2]) ? 1 : -1;\n",
    "```\n",
    "\n",
    "Also another point is to no terminate immediately if the intersection was found in the previous step  \n",
    "so for this point, I used a counter that increment after the intersection was found.\n",
    "\n",
    "Extract of paper\n",
    "\n",
    "> ... **if** the first intersection was not found during the previous loop iteration   \n",
    "> **then if** this intersection is the same as the first intersection **then** halt. ... \n",
    "\n",
    "Extract of code\n",
    "\n",
    "```C++\n",
    "      if (firstInterPtFoundNStepAgo > 0 && (firstInterPt == interPt)) {\n",
    "        return std::make_pair(true, ConvexHull(interConvexHullPoints));\n",
    "      } else {\n",
    "      //\n",
    "      // Some code...\n",
    "      //\n",
    "      }\n",
    "      if (firstInterPtFoundNStepAgo < 0) {\n",
    "        firstInterPt = interPt;\n",
    "      }\n",
    "      firstInterPtFoundNStepAgo++;\n",
    "```"
   ]
  },
  {
   "cell_type": "markdown",
   "metadata": {
    "tags": []
   },
   "source": [
    "## Visualization of results (Convex Hull intersection and area calculation)"
   ]
  },
  {
   "cell_type": "code",
   "execution_count": null,
   "metadata": {},
   "outputs": [],
   "source": [
    "from convex_hull_filtering import *\n",
    "def plot_pair(convex_hulls, idx1, idx2):\n",
    "    [inter, inter_convex_hull, area] = intersection(convex_hulls[idx1][\"points\"], convex_hulls[idx2][\"points\"])\n",
    "    plot_convex_hull(convex_hulls[idx1])\n",
    "    plot_convex_hull(convex_hulls[idx2])\n",
    "    if inter:\n",
    "        inter_convex_hull = np.matrix(inter_convex_hull)\n",
    "        plot_convex_hull({\"ID\": -1, \"points\" : inter_convex_hull}, linewidth=5, color=\"red\")\n",
    "    area1 = getArea(convex_hulls[idx1][\"points\"])\n",
    "    area2 = getArea(convex_hulls[idx2][\"points\"])\n",
    "    plt.title(f\"{idx1} ({area1:.2f}) & {idx2} ({area2:.2f}) / Inter area = {area:.2f}\")\n",
    "    plt.axis(\"square\")\n",
    "    plt.grid()\n",
    "\n",
    "plt.figure()\n",
    "plt.subplot(2,2,1)\n",
    "plot_pair(convex_hulls, 1, 2)\n",
    "\n",
    "plt.subplot(2,2,2)\n",
    "plot_pair(convex_hulls, 3, 4)\n",
    "\n",
    "plt.subplot(2,2,3)\n",
    "plot_pair(convex_hulls, 5, 6)\n",
    "\n",
    "plt.subplot(2,2,4)\n",
    "plot_pair(convex_hulls, 7, 8)\n",
    "\n",
    "plt.figure()\n",
    "plt.subplot(1,3,1)\n",
    "plot_convex_hull(convex_hulls[11])\n",
    "plot_pair(convex_hulls, 9, 10)\n",
    "\n",
    "plt.subplot(1,3,2)\n",
    "plot_convex_hull(convex_hulls[10])\n",
    "plot_pair(convex_hulls, 9, 11)\n",
    "\n",
    "plt.subplot(1,3,3)\n",
    "plot_convex_hull(convex_hulls[9])\n",
    "plot_pair(convex_hulls, 10, 11)"
   ]
  },
  {
   "cell_type": "markdown",
   "metadata": {
    "tags": []
   },
   "source": [
    "## Checking degenerate cases"
   ]
  },
  {
   "cell_type": "markdown",
   "metadata": {},
   "source": [
    "Checking the following cases:\n",
    "\n",
    "* the two convex hull share one edge\n",
    "* the two convex hull intersect on a single point\n",
    "* the two convex hull partially overalap on one edge\n",
    "* the two convex hull share one edge (different starting point)"
   ]
  },
  {
   "cell_type": "code",
   "execution_count": null,
   "metadata": {},
   "outputs": [],
   "source": [
    "convex_hull_A = {\"ID\": 1, \"points\": np.matrix([[0.0, 0.0], [1.0, 0.0], [1.0, 1.0]])}\n",
    "convex_hull_B = {\"ID\": 2, \"points\": np.matrix([[1.0, 0.0], [1.0, 1.0], [0.0, 1.0]])}\n",
    "convex_hull_C = {\"ID\": 3, \"points\": np.matrix([[1.0, 0.5], [2.0, 0.5], [2.0, 1.5]])}\n",
    "convex_hull_D = {\"ID\": 4, \"points\": np.matrix([[0.5, 0.0], [1.5, 0.0], [1.5, 1.0]])}\n",
    "convex_hull_E = {\"ID\": 5, \"points\": np.matrix([[0.0, 1.0], [1.0, 0.0], [1.0, 1.0]])}\n",
    "plt.subplot(2, 2, 1)\n",
    "plot_pair([convex_hull_A, convex_hull_B], 0, 1)\n",
    "print(intersection(convex_hull_A[\"points\"], convex_hull_B[\"points\"]))\n",
    "plt.subplot(2, 2, 2)\n",
    "plot_pair([convex_hull_A, convex_hull_C], 0, 1)\n",
    "print(intersection(convex_hull_A[\"points\"], convex_hull_C[\"points\"]))\n",
    "plt.subplot(2, 2, 3)\n",
    "plot_pair([convex_hull_A, convex_hull_D], 0, 1)\n",
    "print(intersection(convex_hull_A[\"points\"], convex_hull_D[\"points\"]))\n",
    "plt.subplot(2, 2, 4)\n",
    "plot_pair([convex_hull_A, convex_hull_E], 0, 1)\n",
    "print(intersection(convex_hull_A[\"points\"], convex_hull_E[\"points\"]))"
   ]
  },
  {
   "cell_type": "markdown",
   "metadata": {},
   "source": [
    "Checking with different direction to travel ie clockwise or counter-clockwise"
   ]
  },
  {
   "cell_type": "code",
   "execution_count": null,
   "metadata": {},
   "outputs": [],
   "source": [
    "points_A = []\n",
    "for theta in np.linspace(1, 1 + 2 * math.pi, 10):\n",
    "    l = 5\n",
    "    points_A.append([l * math.cos(theta), l * math.sin(theta)])\n",
    "points_A = np.matrix(points_A)\n",
    "\n",
    "points_B = []\n",
    "for theta in np.linspace(0, -2 * math.pi, 10):\n",
    "    l = 5\n",
    "    points_B.append([l * math.cos(theta), l * math.sin(theta)])\n",
    "points_B = np.matrix(points_B)\n",
    "\n",
    "convex_hull_A = {\"ID\": 1, \"points\": points_A}\n",
    "convex_hull_B = {\"ID\": 2, \"points\": points_B}\n",
    "\n",
    "plot_pair([convex_hull_A, convex_hull_B], 0, 1)"
   ]
  },
  {
   "cell_type": "markdown",
   "metadata": {},
   "source": [
    "# Part 3 : Collision detection"
   ]
  },
  {
   "cell_type": "markdown",
   "metadata": {},
   "source": [
    "## Research of algorithms"
   ]
  },
  {
   "cell_type": "markdown",
   "metadata": {},
   "source": [
    "After some research, I found that there is a multitude of algorithms available.  \n",
    "For the task requested, I decided to try to use R-tree algorithms  \n",
    "Again, there is many variants of R-tree but after considering the short time (1 week) for this assigment,  \n",
    "I decided to implement the original R-tree algorithm following the original paper:  \n",
    "http://www-db.deis.unibo.it/courses/SI-LS/papers/Gut84.pdf\n",
    "\n",
    "Also I decided to limit myself to only the search and insertion cases (ie not deletion) due to the short time limitation"
   ]
  },
  {
   "cell_type": "markdown",
   "metadata": {
    "tags": []
   },
   "source": [
    "## Algorithm (extract from Gut84)"
   ]
  },
  {
   "cell_type": "markdown",
   "metadata": {},
   "source": [
    "> Algorithm **Search**  \n",
    "> Given an R-tree whose root node is $T$, find all index records whose rectangles overlap a search rectangle $S$  \n",
    "> \n",
    "> Sl [Search subtrees]  \n",
    "> If $T$ is not a leaf, check each entry $E$ to deterrmine whether $E I$ overlaps $S$  \n",
    "> For all overlapping entries, invoke **Search** on the tree whose root node is pointed to by $Ep$  \n",
    "> \n",
    "> S2 [Search leaf node]  \n",
    "> If $T$ is a leaf, check all entries $E$ to determine whether $EI$ overlaps $S$ \n",
    "> If so, $E$ is a qualifying record\n",
    "> \n",
    "> \n",
    "> \n",
    "> Algorithm **Insert**  \n",
    "> Insert a new index entry $E$ into an R-tree  \n",
    "> \n",
    "> I1 [Find position for new record]  \n",
    "> Invoke **ChooseLeaf** to select a leaf node $L$ in which to place $E$\n",
    "> \n",
    "> I2 [Add record to leaf node]  \n",
    "> If $L$ has room for another entry, install $E$  \n",
    "> Otherwise invoke **SplitNode** to obtain $L$ and $LL$ containing $E$ and all the old entries of $L$  \n",
    "> \n",
    "> I3 [Propagate changes upward]  \n",
    "> Inovke **AdjustTree** on $L$, also passing $LL$ if a split was performed  \n",
    "> \n",
    "> I4 [Grow tree taller]  \n",
    "> If node split propagation caused the root to split, create a new root whose children are the two resulting nodes"
   ]
  },
  {
   "cell_type": "markdown",
   "metadata": {},
   "source": [
    "## Explanation"
   ]
  },
  {
   "cell_type": "markdown",
   "metadata": {},
   "source": [
    "In the original paper, leaf node contains index records\n",
    "\n",
    "Extract of paper\n",
    "\n",
    "> Every leaf node contains between $m$ and $M$ index records unless it is the root\n",
    "\n",
    "But in my implementation for simplicity, I decided to treat those index records are just regular nodes (that wont have children/index records)   \n",
    "Thus the parent node of those index records node is the *leaf node* as per the original paper  \n",
    "So in my implementation the two bottom layers will be marked as *leaf node*,  \n",
    "one being the *leaf node* per the original paper  \n",
    "and the subsequent layer being the *index records*\n",
    "\n",
    "Also for the children, I used `std::unique_ptr<>` to give ownership of the child to the parent node  \n",
    "And to simplify the move operations, I implemented the following functions\n",
    "```C++\n",
    "RTreeNodePtrList::iterator moveRTreeNode(RTreeNodePtrList* source,\n",
    "                                         const RTreeNodePtrList::iterator& iter,\n",
    "                                         RTreeNodePtrList* dest);\n",
    "void moveAllRTreeNode(RTreeNodePtrList* source, RTreeNodePtrList* dest);\n",
    "RTreeNodePtrList::iterator makeNewRTreeNode(RTreeNodePtrList* list,\n",
    "                                            const BoundingBox& bb);\n",
    "```\n",
    "\n",
    "As the pickNext() would pick an element from the entries list and this element would need to be move to either of one group during the split node operation, I decided to use the `std::list<>` STL container\n",
    "\n",
    "And as the spliting operation is quite complex, I decided to create a dedicated class `Spliter` that would handle the spliting process  \n",
    "The newly created half splited node would be the added to the `nodesToAdd` container to be reinserted back into the tree at the correct location"
   ]
  },
  {
   "cell_type": "markdown",
   "metadata": {},
   "source": [
    "## Visualization of results"
   ]
  },
  {
   "cell_type": "code",
   "execution_count": null,
   "metadata": {},
   "outputs": [],
   "source": [
    "entries = []\n",
    "\n",
    "def plot_bb(bb, *args, **kwargs):\n",
    "    plt.plot([bb[0], bb[2], bb[2], bb[0], bb[0]], [bb[1], bb[1], bb[3], bb[3], bb[1]], *args, **kwargs)\n",
    "\n",
    "def traverseTree(node, level):\n",
    "    bb = node[\"bb\"]\n",
    "    linewidth = 25 - (10 * level)\n",
    "    color = get_color(level)\n",
    "    if len(node[\"children\"]) == 0:\n",
    "        linewidth = 1\n",
    "        color = get_color(node[\"value\"])\n",
    "    plot_bb(bb, linewidth=linewidth, color=color)\n",
    "    for child in node[\"children\"]:\n",
    "        traverseTree(child, level + 1)\n",
    "\n",
    "def plotEachLevel(node, level, plot_level):\n",
    "    bb = node[\"bb\"]\n",
    "    linewidth = 1\n",
    "    color = get_color(level)\n",
    "    if len(node[\"children\"]) == 0:\n",
    "        color = get_color(node[\"value\"])\n",
    "    if level == plot_level:\n",
    "        plot_bb(bb, linewidth=linewidth, color=color)\n",
    "    for child in node[\"children\"]:\n",
    "        plotEachLevel(child, level + 1, plot_level)\n",
    "\n",
    "plt.figure()\n",
    "for i, convex_hull in enumerate(convex_hulls):\n",
    "    plot_convex_hull(convex_hull, color=get_color(i))\n",
    "    bb = boundingBox(convex_hull[\"points\"])\n",
    "    entries.append([i] + bb)\n",
    "entries = np.matrix(entries)\n",
    "tree = insertEntry(1, 3, entries)\n",
    "traverseTree(tree, 0)\n",
    "plt.axis(\"square\")\n",
    "plt.grid(True)\n",
    "set_axis()\n",
    "\n",
    "plt.figure()\n",
    "for i in range(4):\n",
    "    plt.subplot(1,4, i + 1)\n",
    "    plotEachLevel(tree, 0, i)\n",
    "    plt.axis(\"square\")\n",
    "    plt.grid(True)\n",
    "    set_axis()"
   ]
  },
  {
   "cell_type": "markdown",
   "metadata": {},
   "source": [
    "# Part 4 : Putting everything together"
   ]
  },
  {
   "cell_type": "code",
   "execution_count": null,
   "metadata": {},
   "outputs": [],
   "source": [
    "res = findPairwiseIntersections(1, 3, entries)\n",
    "res\n",
    "\n",
    "filtered_convex_hulls = load_json(\"filtered_convex_hulls.json\")\n",
    "\n",
    "for convex_hull in filtered_convex_hulls:\n",
    "    plot_convex_hull(convex_hull)\n",
    "plt.axis(\"square\")\n",
    "plt.grid(True)\n",
    "set_axis()"
   ]
  },
  {
   "cell_type": "raw",
   "metadata": {},
   "source": [
    "\\begin{thebibliography}{1}\n",
    "\n",
    "\\bibitem{ORourke82}\n",
    "  Joseph O'Rourke, Chi-Bin Chien, Thomas Olson, and David Naddor,\n",
    "  \\emph{A New Linear Algorithm for Intersecting Convex Polygons}.\n",
    "  Computer graphics and image processing,\n",
    "  1982.\n",
    "\n",
    "\\bibitem{Gut84}\n",
    "  Antonin Guttman,\n",
    "  \\emph{R-TREES: A DYNAMIC INDEX STRUCTURE FOR SPATIAL SEARCHING}.\n",
    "  ACM,\n",
    "  1984.\n",
    "\n",
    "\\bibitem{Bow17}\n",
    "  Bowdoin,\n",
    "  \\emph{Convex polygon intersection}.\n",
    "  \\url{https://tildesites.bowdoin.edu/~ltoma/teaching/cs3250-CompGeom/spring17/Lectures/cg-convexintersection.pdf},\n",
    "  2017.\n",
    "\n",
    "\\end{thebibliography}"
   ]
  }
 ],
 "metadata": {
  "authors": [
   {
    "name": "Remi KEAT"
   }
  ],
  "kernelspec": {
   "display_name": "Python 3 (ipykernel)",
   "language": "python",
   "name": "python3"
  },
  "language_info": {
   "codemirror_mode": {
    "name": "ipython",
    "version": 3
   },
   "file_extension": ".py",
   "mimetype": "text/x-python",
   "name": "python",
   "nbconvert_exporter": "python",
   "pygments_lexer": "ipython3",
   "version": "3.10.6"
  },
  "title": "MaaS General Challenge",
  "vscode": {
   "interpreter": {
    "hash": "e7370f93d1d0cde622a1f8e1c04877d8463912d04d973331ad4851f04de6915a"
   }
  }
 },
 "nbformat": 4,
 "nbformat_minor": 4
}
